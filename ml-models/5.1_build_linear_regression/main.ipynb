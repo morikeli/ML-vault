{
 "cells": [
  {
   "cell_type": "markdown",
   "metadata": {},
   "source": [
    "## Build linear regression from scratch\n",
    "\n",
    "Build a linear regression model from scratch using numpy"
   ]
  },
  {
   "cell_type": "code",
   "execution_count": 5,
   "metadata": {},
   "outputs": [],
   "source": [
    "import numpy as np"
   ]
  },
  {
   "cell_type": "code",
   "execution_count": 6,
   "metadata": {},
   "outputs": [],
   "source": [
    "class LinearRegression:\n",
    "    \"\"\" This is an object to implement linear regression model in Machine Learning. \"\"\"\n",
    "\n",
    "    def __init__(self, learning_rate, iterations):  # hyperparameters: \"learning_rate\" & \"iterations\"\n",
    "       self.learning_rate = learning_rate\n",
    "       self.iterations = iterations\n",
    "\n",
    "    def fit(self, X, Y):\n",
    "        self.m, self.n = X.shape    # no. of rows & columns\n",
    "\n",
    "        # initiate weight & bias\n",
    "        self.w = np.zeros(self.n)\n",
    "        self.b = 0\n",
    "        self.X = X  # years of experience in the salary dataset, i.e. DIR_PATH=\"data/salary_data.csv\"\n",
    "        self.Y = Y  # salary in the salary dataset\n",
    "\n",
    "        # implementing gradient descent\n",
    "        for i in range(self.iterations):\n",
    "            self.update_weights()\n",
    "\n",
    "\n",
    "    def update_weights(self):\n",
    "        Y_prediction = self.predict(self.X)\n",
    "\n",
    "        # calculate gradients\n",
    "        dw = -(2 * (self.X.T).dot(self.Y - Y_prediction)) / self.m\n",
    "\n",
    "        db = -2 * np.sum(self.Y - Y_prediction) / self.m\n",
    "\n",
    "        # update weights\n",
    "        self.w = self.w - self.learning_rate * dw\n",
    "        self.b = self.b - self.learning_rate * db\n",
    "\n",
    "\n",
    "    def predict(self, X):\n",
    "        return X.dot(self.w) + self.b\n",
    "\n"
   ]
  }
 ],
 "metadata": {
  "kernelspec": {
   "display_name": ".venv",
   "language": "python",
   "name": "python3"
  },
  "language_info": {
   "codemirror_mode": {
    "name": "ipython",
    "version": 3
   },
   "file_extension": ".py",
   "mimetype": "text/x-python",
   "name": "python",
   "nbconvert_exporter": "python",
   "pygments_lexer": "ipython3",
   "version": "3.11.4"
  }
 },
 "nbformat": 4,
 "nbformat_minor": 2
}
